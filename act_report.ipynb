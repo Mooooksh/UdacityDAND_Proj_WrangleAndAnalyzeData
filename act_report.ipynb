{
 "cells": [
  {
   "cell_type": "markdown",
   "metadata": {},
   "source": [
    "Create a 250-word-minimum written report called act_report.pdf or act_report.html that communicates the insights and displays the visualization(s) produced from your wrangled data. This is to be framed as an external document, like a blog post or magazine article, for example."
   ]
  },
  {
   "cell_type": "markdown",
   "metadata": {},
   "source": [
    "1. Talk about general data\n",
    "    * About WeRateDogs\n",
    "    * Number of points\n",
    "    * Collected from archive and API\n",
    "    * Used image predictions code\n",
    "2. Retweets vs. Favorites\n",
    "    * Strong correlation\n",
    "    * Possibly quadratic\n",
    "        - less correlated for higher values (favs > retweets)\n",
    "    * Dog stages\n",
    "        - most not classified\n",
    "        - most common\n",
    "        - a couple don't follow the trend (because of rarity?)\n",
    "3. Commonly used Dog Breed\n",
    "    * Most common \"breed\" => not a dog\n",
    "        - better observe quality of image predictions\n",
    "    * Most common dogs \n",
    "        - also popular on the internet\n",
    "4. Dog Breed Popularity\n",
    "    * Most common dogs not popular\n",
    "        - rare dogs are more popular?\n",
    "    * More retweets == more favorites"
   ]
  },
  {
   "cell_type": "markdown",
   "metadata": {},
   "source": [
    "# Analysis of WeRateDogs™\n",
    "\n",
    "**TL;DR \"They're good dogs Brent\"**"
   ]
  },
  {
   "cell_type": "markdown",
   "metadata": {},
   "source": [
    "WeRateDogs™ is a twitter account that tweets out pictures of (mostly) dogs with their associated \"ratings\". Seems simple enough though, WeRateDogs™ has what one might call a different approach to a normal judge... Almost all of this Twitter handles' ratings are over 10/10. Why are so many dogs so \"over-rated\"? There could be plenty of reasons, but WeRateDogs™ does have at least one reason; [\"they're good dogs Brent\"](https://twitter.com/dog_rates/status/775410014383026176).\n",
    "\n",
    "But you know what Brent? I completely understand where you're coming from. I'm someone who needs some cold, hard data. 14/10?!? What is this madness?! So today I'm going to dive into how these tweets are overall recieved by the Twitter community. Don't worry Brent, were getting the bottom this!"
   ]
  },
  {
   "cell_type": "markdown",
   "metadata": {},
   "source": [
    "## About the data\n",
    "\n",
    "To analyze the tweets from WeRateDogs™, we have used three different source. The first source is an archive of the past tweets from [@dog_rates](https://twitter.com/dog_rates) provided via a CSV from Udacity. The second source is from the Twitter API used to retrieve more information about the tweets like number of each was retweeted. The third data source provides us the predicted dog breed in each tweet's image programatically determined from a neural network. This was also provided by Udacity. This third source is particularly important as it was not determined how accurate the predictions were. \n",
    "\n",
    "Combining this data from these sources, we ended up analyzing 2174 tweets from WeRateDogs™. These tweets were from before August 2017 and were used to analyze the relationship between retweets and favorites amongst the different \"dog stage\" (floofer, pupper, doggo, etc.), the distribution of dog breeds in the tweets, and the popularity of the dog breeds based on retweets and favorites."
   ]
  }
 ],
 "metadata": {
  "kernelspec": {
   "display_name": "Python 3",
   "language": "python",
   "name": "python3"
  },
  "language_info": {
   "codemirror_mode": {
    "name": "ipython",
    "version": 3
   },
   "file_extension": ".py",
   "mimetype": "text/x-python",
   "name": "python",
   "nbconvert_exporter": "python",
   "pygments_lexer": "ipython3",
   "version": "3.5.2"
  }
 },
 "nbformat": 4,
 "nbformat_minor": 2
}
