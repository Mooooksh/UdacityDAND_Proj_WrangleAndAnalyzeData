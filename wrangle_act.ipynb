{
 "cells": [
  {
   "cell_type": "markdown",
   "metadata": {},
   "source": [
    "# Project: Wrangle and Analyze Data"
   ]
  },
  {
   "cell_type": "code",
   "execution_count": 4,
   "metadata": {},
   "outputs": [],
   "source": [
    "import json\n",
    "import os\n",
    "import pandas as pd\n",
    "import requests\n",
    "import tweepy"
   ]
  },
  {
   "cell_type": "markdown",
   "metadata": {},
   "source": [
    "## Gather Data"
   ]
  },
  {
   "cell_type": "code",
   "execution_count": 2,
   "metadata": {},
   "outputs": [],
   "source": [
    "# Contains tweets with extra info already parsed from text\n",
    "twitter_archive = pd.read_csv('twitter-archive-enhanced.csv')"
   ]
  },
  {
   "cell_type": "code",
   "execution_count": 3,
   "metadata": {},
   "outputs": [],
   "source": [
    "# Predictions of dog breeds\n",
    "url_image_predictions = ('https://d17h27t6h515a5.cloudfront.net/topher/2017/August/'\n",
    "                         '599fd2ad_image-predictions/image-predictions.tsv')\n",
    "r = requests.get(url_image_predictions)\n",
    "image_predictions = r.content"
   ]
  },
  {
   "cell_type": "code",
   "execution_count": null,
   "metadata": {},
   "outputs": [],
   "source": [
    "# Twitter API for more data (save to local file)\n",
    "consumer_key = 'YOUR CONSUMER KEY'\n",
    "consumer_secret = 'YOUR CONSUMER SECRET'\n",
    "access_token = 'YOUR ACCESS TOKEN'\n",
    "access_secret = 'YOUR ACCESS SECRET'\n",
    "\n",
    "auth = tweepy.OAuthHandler(consumer_key, consumer_secret)\n",
    "auth.set_access_token(access_token, access_secret)\n",
    "\n",
    "api = tweepy.API(auth)"
   ]
  },
  {
   "cell_type": "code",
   "execution_count": 9,
   "metadata": {},
   "outputs": [
    {
     "name": "stdout",
     "output_type": "stream",
     "text": [
      "ERROR: Error on tweet id 888202515573088257\n",
      "ERROR: Error on tweet id 873697596434513921\n",
      "ERROR: Error on tweet id 869988702071779329\n",
      "ERROR: Error on tweet id 866816280283807744\n",
      "ERROR: Error on tweet id 861769973181624320\n",
      "ERROR: Error on tweet id 842892208864923648\n",
      "ERROR: Error on tweet id 827228250799742977\n",
      "ERROR: Error on tweet id 802247111496568832\n",
      "ERROR: Error on tweet id 775096608509886464\n",
      "Rate limit reached. Sleeping for: 715\n",
      "Rate limit reached. Sleeping for: 754\n"
     ]
    }
   ],
   "source": [
    "# Store data on tweet_json.txt\n",
    "with open('tweet_json.txt', 'w') as outfile: \n",
    "    for tweet_id in tweet_ids:\n",
    "        try:\n",
    "            tweet = api.get_status(tweet_id)\n",
    "            # Convert to JSON and write\n",
    "            json.dump(tweet._json, outfile)\n",
    "            outfile.write(\"\\n\")\n",
    "            \n",
    "        except:  # could be the case the tweet was deleted\n",
    "            print('ERROR: Error on tweet id {}'.format(tweet_id))\n",
    "            e = os.sys.exc_info()[0]"
   ]
  },
  {
   "cell_type": "code",
   "execution_count": 60,
   "metadata": {},
   "outputs": [],
   "source": [
    "# Save only certain tweet elements in dataframe\n",
    "elements_to_save = ['id', 'favorite_count', 'retweet_count']\n",
    "# Later convert list to dataframe\n",
    "data = []\n",
    "\n",
    "with open('tweet_json.txt', 'r') as readfile: \n",
    "    # Read in JSON line and convert to dict\n",
    "    tweet_json = readfile.readline()\n",
    "    \n",
    "    # Read line by line into DataFrame\n",
    "    while tweet_json:\n",
    "        tweet_dict = json.loads(tweet_json)\n",
    "        # Create a smaller dict\n",
    "        data_row = dict((k, tweet_dict[k]) for k in elements_to_save)\n",
    "        data.append(data_row)\n",
    "        \n",
    "        # Read in JSON line and convert to dict\n",
    "        tweet_json = readfile.readline()\n",
    "        \n",
    "            \n",
    "    \n",
    "df_tweet_info = pd.DataFrame.from_dict(data)"
   ]
  }
 ],
 "metadata": {
  "kernelspec": {
   "display_name": "Python 3",
   "language": "python",
   "name": "python3"
  },
  "language_info": {
   "codemirror_mode": {
    "name": "ipython",
    "version": 3
   },
   "file_extension": ".py",
   "mimetype": "text/x-python",
   "name": "python",
   "nbconvert_exporter": "python",
   "pygments_lexer": "ipython3",
   "version": "3.5.2"
  }
 },
 "nbformat": 4,
 "nbformat_minor": 2
}
